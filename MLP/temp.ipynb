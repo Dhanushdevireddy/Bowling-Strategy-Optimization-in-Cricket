{
  "cells": [
    {
      "cell_type": "code",
      "execution_count": 3,
      "id": "d3f408ae",
      "metadata": {
        "id": "d3f408ae"
      },
      "outputs": [],
      "source": [
        "import pandas as pd\n",
        "import numpy as np\n",
        "import matplotlib.pylab as plt\n",
        "import seaborn as sns\n",
        "import pandas as pd\n",
        "from imblearn.over_sampling import SMOTE\n",
        "plt.style.use('ggplot')\n",
        "pd.set_option('display.max_columns', 200)"
      ]
    },
    {
      "cell_type": "code",
      "execution_count": 4,
      "id": "e2538778",
      "metadata": {
        "id": "e2538778"
      },
      "outputs": [],
      "source": [
        "ball_df = pd.read_csv('../Data/ballbyball.csv')\n",
        "country_df = pd.read_csv('../Data/country.csv')\n",
        "ground_df = pd.read_csv('../Data/ground.csv')\n",
        "matches_df = pd.read_csv('../Data/matches.csv')\n",
        "players_df = pd.read_csv('../Data/players.csv')\n",
        "season_df = pd.read_csv('../Data/season.csv')\n",
        "team_df = pd.read_csv('../Data/team.csv')\n",
        "town_df = pd.read_csv('../Data/town.csv')"
      ]
    },
    {
      "cell_type": "code",
      "execution_count": 5,
      "id": "328ad46c",
      "metadata": {
        "id": "328ad46c"
      },
      "outputs": [],
      "source": [
        "ball_df['totalRuns'] = ball_df['totalRuns'] - ball_df['run']\n",
        "ball_df['totalWickets'] = ball_df['totalWickets'] - ball_df['isWicket'].apply(lambda x: 1 if x else 0)"
      ]
    },
    {
      "cell_type": "code",
      "execution_count": 6,
      "id": "65c26d3e",
      "metadata": {
        "id": "65c26d3e"
      },
      "outputs": [],
      "source": [
        "ground_df.drop(['Ground Slug', 'Town ID', 'Capacity'], axis=1, inplace=True)"
      ]
    },
    {
      "cell_type": "code",
      "execution_count": 7,
      "id": "61b7dbe6",
      "metadata": {
        "id": "61b7dbe6"
      },
      "outputs": [],
      "source": [
        "matches_df.rename(columns={'ground_id': 'Ground ID'}, inplace=True)\n",
        "\n",
        "matches_df = pd.merge(matches_df, ground_df, on='Ground ID', how='inner')"
      ]
    },
    {
      "cell_type": "code",
      "execution_count": 8,
      "id": "73ee53f2",
      "metadata": {
        "id": "73ee53f2"
      },
      "outputs": [],
      "source": [
        "matches_df.drop(['season_id', 'slug', 'title', 'date', 'time', 'status', 'status_description', 'winner_team_id', 'toss_winner_team_id', 'toss_choice', 'Ground ID', 'team_1_id', 'team_2_id', 'team_1_score', 'team_1_scoreInfo', 'team_2_scoreInfo'], axis=1, inplace=True)"
      ]
    },
    {
      "cell_type": "code",
      "execution_count": 9,
      "id": "5e177543",
      "metadata": {
        "id": "5e177543"
      },
      "outputs": [],
      "source": [
        "players_df.drop(['Full Name', 'Image', 'DOB', 'Batting Style (s)', 'Bowling Style (s)', 'Team ID'], axis=1, inplace=True)"
      ]
    },
    {
      "cell_type": "code",
      "execution_count": 10,
      "id": "99a52a97",
      "metadata": {
        "id": "99a52a97"
      },
      "outputs": [],
      "source": [
        "ball_df = pd.merge(ball_df, matches_df, on='match_id', how='inner')"
      ]
    },
    {
      "cell_type": "code",
      "execution_count": 11,
      "id": "3843b3df",
      "metadata": {
        "id": "3843b3df"
      },
      "outputs": [],
      "source": [
        "ball_df.drop(['index', 'overNumber', 'ballNumber', 'oversUnique', 'penalties', 'batsmanRuns', 'outPlayerId'], axis=1, inplace=True)"
      ]
    },
    {
      "cell_type": "code",
      "execution_count": 12,
      "id": "eb7280b6",
      "metadata": {
        "id": "eb7280b6"
      },
      "outputs": [],
      "source": [
        "ball_df = ball_df.merge(players_df, how='left', left_on='batsmanPlayerId', right_on='ID', suffixes=('', '_batsman'))\n",
        "\n",
        "ball_df.rename(columns={\n",
        "    'Name': 'Batsman_Name',\n",
        "    'Role': 'Batsman_Role',\n",
        "    'Batting Style (l)': 'Batsman_Batting_Style',\n",
        "    'Bowling Style(l)': 'Batsman_Bowling_Style',\n",
        "    'Playing Role': 'Batsman_Playing_Role'\n",
        "}, inplace=True)\n",
        "\n",
        "ball_df.drop(columns=['ID'], inplace=True)\n",
        "\n",
        "ball_df = ball_df.merge(players_df, how='left', left_on='bowlerPlayerId', right_on='ID', suffixes=('', '_bowler'))\n",
        "\n",
        "ball_df.rename(columns={\n",
        "    'Name': 'Bowler_Name',\n",
        "    'Role': 'Bowler_Role',\n",
        "    'Batting Style (l)': 'Bowler_Batting_Style',\n",
        "    'Bowling Style(l)': 'Bowler_Bowling_Style',\n",
        "    'Playing Role': 'Bowler_Playing_Role'\n",
        "}, inplace=True)\n",
        "\n",
        "ball_df.drop(columns=['ID'], inplace=True)"
      ]
    },
    {
      "cell_type": "code",
      "execution_count": 13,
      "id": "f4fecfe0",
      "metadata": {
        "id": "f4fecfe0"
      },
      "outputs": [],
      "source": [
        "ball_df.drop(columns=['batsmanPlayerId', 'bowlerPlayerId'], inplace=True)"
      ]
    },
    {
      "cell_type": "code",
      "execution_count": 14,
      "id": "bd49b459",
      "metadata": {
        "id": "bd49b459"
      },
      "outputs": [],
      "source": [
        "ball_df.drop(columns=['Batsman_Bowling_Style', 'Bowler_Batting_Style'], inplace=True)"
      ]
    },
    {
      "cell_type": "code",
      "execution_count": 15,
      "id": "f6d21f27",
      "metadata": {
        "id": "f6d21f27"
      },
      "outputs": [],
      "source": [
        "df = ball_df.dropna(subset=['pitchLength', 'pitchLine','shotType','Batsman_Name','Batsman_Batting_Style', 'Batsman_Playing_Role','Bowler_Name','Bowler_Bowling_Style','Bowler_Playing_Role'])"
      ]
    },
    {
      "cell_type": "code",
      "execution_count": 16,
      "id": "7d96c8c8",
      "metadata": {
        "colab": {
          "base_uri": "https://localhost:8080/"
        },
        "id": "7d96c8c8",
        "outputId": "d662cdc5-6163-467a-b71d-26f0eb4e1284"
      },
      "outputs": [
        {
          "name": "stderr",
          "output_type": "stream",
          "text": [
            "/tmp/ipykernel_127915/690851263.py:1: SettingWithCopyWarning: \n",
            "A value is trying to be set on a copy of a slice from a DataFrame\n",
            "\n",
            "See the caveats in the documentation: https://pandas.pydata.org/pandas-docs/stable/user_guide/indexing.html#returning-a-view-versus-a-copy\n",
            "  df.drop(columns=['match_id'], inplace=True)\n"
          ]
        }
      ],
      "source": [
        "df.drop(columns=['match_id'], inplace=True)"
      ]
    },
    {
      "cell_type": "code",
      "execution_count": 17,
      "id": "60d78cd0",
      "metadata": {
        "id": "60d78cd0"
      },
      "outputs": [],
      "source": [
        "from sklearn.preprocessing import StandardScaler, LabelEncoder\n",
        "X = df.drop('isWicket', axis=1)\n",
        "y = df['isWicket']\n",
        "\n",
        "categorical_cols = X.select_dtypes(include='object').columns\n",
        "label_encoders = {}\n",
        "\n",
        "for col in categorical_cols:\n",
        "    le = LabelEncoder()\n",
        "    X[col] = le.fit_transform(X[col])\n",
        "    label_encoders[col] = le\n",
        "\n",
        "smote = SMOTE(sampling_strategy='auto', random_state=42)\n",
        "X_resampled, y_resampled = smote.fit_resample(X, y)\n",
        "\n",
        "columns_to_scale = [col for col in X.columns if col not in ['pitchLine', 'pitchLength', 'Bowler_Bowling_Style', 'shotType']]\n",
        "\n",
        "scaler = StandardScaler()\n",
        "X_resampled[columns_to_scale] = scaler.fit_transform(X_resampled[columns_to_scale])\n",
        "\n",
        "df_resampled = pd.DataFrame(X_resampled, columns=X.columns)\n",
        "df_resampled['isWicket'] = y_resampled"
      ]
    },
    {
      "cell_type": "code",
      "execution_count": 18,
      "id": "84ac9559",
      "metadata": {},
      "outputs": [
        {
          "data": {
            "text/plain": [
              "['scaler.pkl']"
            ]
          },
          "execution_count": 18,
          "metadata": {},
          "output_type": "execute_result"
        }
      ],
      "source": [
        "import pickle\n",
        "import joblib\n",
        "with open('label_encoders.pkl', 'wb') as f:\n",
        "    pickle.dump(label_encoders, f)\n",
        "\n",
        "joblib.dump(scaler, 'scaler.pkl')"
      ]
    }
  ],
  "metadata": {
    "accelerator": "GPU",
    "colab": {
      "gpuType": "T4",
      "provenance": []
    },
    "kernelspec": {
      "display_name": "venv",
      "language": "python",
      "name": "python3"
    },
    "language_info": {
      "codemirror_mode": {
        "name": "ipython",
        "version": 3
      },
      "file_extension": ".py",
      "mimetype": "text/x-python",
      "name": "python",
      "nbconvert_exporter": "python",
      "pygments_lexer": "ipython3",
      "version": "3.10.16"
    }
  },
  "nbformat": 4,
  "nbformat_minor": 5
}
