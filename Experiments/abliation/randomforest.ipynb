{
 "cells": [
  {
   "cell_type": "code",
   "execution_count": 1,
   "id": "d833ede4",
   "metadata": {},
   "outputs": [],
   "source": [
    "import pandas as pd\n",
    "import numpy as np\n",
    "import matplotlib.pylab as plt\n",
    "import seaborn as sns\n",
    "from scipy.stats import ks_2samp\n",
    "import pandas as pd\n",
    "from sklearn.ensemble import RandomForestClassifier\n",
    "#from sklearn.model_selection import train_test_split\n",
    "from sklearn.metrics import accuracy_score, classification_report\n",
    "from sklearn.tree import plot_tree\n",
    "from sklearn.preprocessing import StandardScaler, LabelEncoder\n",
    "from imblearn.over_sampling import SMOTE\n",
    "from sklearn.model_selection import train_test_split\n",
    "plt.style.use('ggplot')\n",
    "pd.set_option('display.max_columns', 200)"
   ]
  },
  {
   "cell_type": "code",
   "execution_count": 2,
   "id": "6b67083f",
   "metadata": {},
   "outputs": [],
   "source": [
    "df = pd.read_csv('C:\\spring2025\\SMAI\\Project\\output.csv')"
   ]
  },
  {
   "cell_type": "code",
   "execution_count": 3,
   "id": "ed478e89",
   "metadata": {},
   "outputs": [
    {
     "name": "stdout",
     "output_type": "stream",
     "text": [
      "\n",
      "--- Removing: None ---\n",
      "Accuracy: 0.3792\n",
      "\n",
      "--- Removing: time_of_day ---\n",
      "Accuracy: 0.3765\n",
      "\n",
      "--- Removing: oversActual ---\n",
      "Accuracy: 0.3695\n",
      "\n",
      "--- Removing: Batsman_Batting_Style ---\n",
      "Accuracy: 0.3769\n",
      "\n",
      "--- Removing: time_of_day, oversActual ---\n",
      "Accuracy: 0.3552\n",
      "\n",
      "--- Removing: time_of_day, Batsman_Batting_Style ---\n",
      "Accuracy: 0.3682\n",
      "\n",
      "--- Removing: oversActual, Batsman_Batting_Style ---\n",
      "Accuracy: 0.3648\n",
      "\n",
      "--- Removing: time_of_day, oversActual, Batsman_Batting_Style ---\n",
      "Accuracy: 0.3569\n"
     ]
    }
   ],
   "source": [
    "from sklearn.ensemble import RandomForestClassifier\n",
    "from sklearn.model_selection import train_test_split\n",
    "from sklearn.metrics import accuracy_score\n",
    "from itertools import combinations\n",
    "\n",
    "# Copy the dataframe and define the target\n",
    "threshold = 2\n",
    "df_copy = df.copy()\n",
    "df_copy['target'] = ((df_copy['isWicket'] == 1) | (df_copy['run'] <= threshold)).astype(int)\n",
    "\n",
    "# Define input and target columns\n",
    "original_input_cols = ['inningNumber', 'oversActual', 'totalRuns', 'totalWickets', \n",
    "                       'time_of_day', 'Ground Name', 'Batsman_Name', 'Batsman_Role', \n",
    "                       'Batsman_Batting_Style', 'Batsman_Playing_Role']\n",
    "target_col = 'shotType'  # Or any other target you're currently testing\n",
    "\n",
    "# Features to ablate\n",
    "features_to_remove = ['time_of_day', 'oversActual', 'Batsman_Batting_Style']\n",
    "\n",
    "# Filter good rows and set up X, y\n",
    "df_good = df_copy[df_copy['target'] == 1]\n",
    "\n",
    "# Try removing 0 to N features (all combinations)\n",
    "for i in range(len(features_to_remove) + 1):\n",
    "    for combo in combinations(features_to_remove, i):\n",
    "        ablation_tag = ', '.join(combo) if combo else 'None'\n",
    "        print(f\"\\n--- Removing: {ablation_tag} ---\")\n",
    "\n",
    "        input_cols = [col for col in original_input_cols if col not in combo]\n",
    "\n",
    "        X = df_good[input_cols]\n",
    "        y = df_good[target_col]\n",
    "\n",
    "        # Optional: One-hot encode if needed (if categorical features aren't already preprocessed)\n",
    "        X = pd.get_dummies(X)\n",
    "\n",
    "        X_train, X_test, y_train, y_test = train_test_split(X, y, test_size=0.2, random_state=42)\n",
    "\n",
    "        clf = RandomForestClassifier(random_state=42)\n",
    "        clf.fit(X_train, y_train)\n",
    "\n",
    "        y_pred = clf.predict(X_test)\n",
    "        accuracy = accuracy_score(y_test, y_pred)\n",
    "        print(f\"Accuracy: {accuracy:.4f}\")\n"
   ]
  }
 ],
 "metadata": {
  "kernelspec": {
   "display_name": "Python 3",
   "language": "python",
   "name": "python3"
  },
  "language_info": {
   "codemirror_mode": {
    "name": "ipython",
    "version": 3
   },
   "file_extension": ".py",
   "mimetype": "text/x-python",
   "name": "python",
   "nbconvert_exporter": "python",
   "pygments_lexer": "ipython3",
   "version": "3.11.9"
  }
 },
 "nbformat": 4,
 "nbformat_minor": 5
}
